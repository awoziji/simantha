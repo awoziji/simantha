{
 "cells": [
  {
   "cell_type": "code",
   "execution_count": 1,
   "metadata": {
    "collapsed": true
   },
   "outputs": [],
   "source": [
    "import maintsim\n",
    "import numpy as np\n",
    "import pandas as pd\n",
    "import matplotlib.pyplot as plt"
   ]
  },
  {
   "cell_type": "code",
   "execution_count": 2,
   "metadata": {},
   "outputs": [
    {
     "name": "stdout",
     "output_type": "stream",
     "text": [
      "\n",
      "               processing time units produced        TH MTTF     MTTR  \\\n",
      "Machine 0                    4             68  0.194842  115       10   \n",
      "Machine 1                    2             66  0.189112  NaN      NaN   \n",
      "Machine 2                    5             62   0.17765  100       15   \n",
      "Machine 3                    3             61  0.174785  NaN      NaN   \n",
      "Machine 4                    2             60   0.17192  100       25   \n",
      "System     bottleneck time = 5             60  0.171429  105  16.6667   \n",
      "\n",
      "          availability  avg queue time  \n",
      "Machine 0     0.968571       25.000000  \n",
      "Machine 1            1             NaN  \n",
      "Machine 2     0.954286        0.000000  \n",
      "Machine 3            1             NaN  \n",
      "Machine 4     0.925714       15.000000  \n",
      "System        0.969714       13.333333  \n",
      "\n",
      " Bottleneck machine idle for 32 time units.\n"
     ]
    }
   ],
   "source": [
    "# serial line no maintenance\n",
    "line = maintsim.SimulationParameters(\n",
    "    process_times = [4, 2, 5, 3, 2],\n",
    "    buffer_sizes = [2]*5,\n",
    "    planned_failures = [(0,115,10), (2,100,15), (4,100,25)],\n",
    "    sim_time = 350, warmup_time=0)\n",
    "\n",
    "scenario1 = maintsim.Scenario(line)\n",
    "\n",
    "scenario1.simulate()"
   ]
  },
  {
   "cell_type": "code",
   "execution_count": 5,
   "metadata": {},
   "outputs": [
    {
     "data": {
      "text/html": [
       "<div>\n",
       "<style scoped>\n",
       "    .dataframe tbody tr th:only-of-type {\n",
       "        vertical-align: middle;\n",
       "    }\n",
       "\n",
       "    .dataframe tbody tr th {\n",
       "        vertical-align: top;\n",
       "    }\n",
       "\n",
       "    .dataframe thead th {\n",
       "        text-align: right;\n",
       "    }\n",
       "</style>\n",
       "<table border=\"1\" class=\"dataframe\">\n",
       "  <thead>\n",
       "    <tr style=\"text-align: right;\">\n",
       "      <th></th>\n",
       "      <th>time</th>\n",
       "      <th>machine</th>\n",
       "      <th>type</th>\n",
       "      <th>activity</th>\n",
       "      <th>TTF/TTR</th>\n",
       "    </tr>\n",
       "  </thead>\n",
       "  <tbody>\n",
       "    <tr>\n",
       "      <th>0</th>\n",
       "      <td>100</td>\n",
       "      <td>2</td>\n",
       "      <td>planned</td>\n",
       "      <td>failure</td>\n",
       "      <td>100</td>\n",
       "    </tr>\n",
       "    <tr>\n",
       "      <th>1</th>\n",
       "      <td>100</td>\n",
       "      <td>4</td>\n",
       "      <td>planned</td>\n",
       "      <td>failure</td>\n",
       "      <td>100</td>\n",
       "    </tr>\n",
       "    <tr>\n",
       "      <th>2</th>\n",
       "      <td>100</td>\n",
       "      <td>2</td>\n",
       "      <td>planned</td>\n",
       "      <td>repair start</td>\n",
       "      <td>0</td>\n",
       "    </tr>\n",
       "    <tr>\n",
       "      <th>3</th>\n",
       "      <td>115</td>\n",
       "      <td>2</td>\n",
       "      <td>planned</td>\n",
       "      <td>repair end</td>\n",
       "      <td>15</td>\n",
       "    </tr>\n",
       "    <tr>\n",
       "      <th>4</th>\n",
       "      <td>115</td>\n",
       "      <td>0</td>\n",
       "      <td>planned</td>\n",
       "      <td>failure</td>\n",
       "      <td>115</td>\n",
       "    </tr>\n",
       "    <tr>\n",
       "      <th>5</th>\n",
       "      <td>115</td>\n",
       "      <td>4</td>\n",
       "      <td>planned</td>\n",
       "      <td>repair start</td>\n",
       "      <td>15</td>\n",
       "    </tr>\n",
       "    <tr>\n",
       "      <th>6</th>\n",
       "      <td>140</td>\n",
       "      <td>4</td>\n",
       "      <td>planned</td>\n",
       "      <td>repair end</td>\n",
       "      <td>25</td>\n",
       "    </tr>\n",
       "    <tr>\n",
       "      <th>7</th>\n",
       "      <td>140</td>\n",
       "      <td>0</td>\n",
       "      <td>planned</td>\n",
       "      <td>repair start</td>\n",
       "      <td>25</td>\n",
       "    </tr>\n",
       "    <tr>\n",
       "      <th>8</th>\n",
       "      <td>150</td>\n",
       "      <td>0</td>\n",
       "      <td>planned</td>\n",
       "      <td>repair end</td>\n",
       "      <td>10</td>\n",
       "    </tr>\n",
       "  </tbody>\n",
       "</table>\n",
       "</div>"
      ],
      "text/plain": [
       "  time machine     type      activity TTF/TTR\n",
       "0  100       2  planned       failure     100\n",
       "1  100       4  planned       failure     100\n",
       "2  100       2  planned  repair start       0\n",
       "3  115       2  planned    repair end      15\n",
       "4  115       0  planned       failure     115\n",
       "5  115       4  planned  repair start      15\n",
       "6  140       4  planned    repair end      25\n",
       "7  140       0  planned  repair start      25\n",
       "8  150       0  planned    repair end      10"
      ]
     },
     "execution_count": 5,
     "metadata": {},
     "output_type": "execute_result"
    }
   ],
   "source": [
    "scenario1.maintenance_data.loc[0:20]"
   ]
  },
  {
   "cell_type": "code",
   "execution_count": 35,
   "metadata": {},
   "outputs": [
    {
     "data": {
      "text/plain": [
       "26"
      ]
     },
     "execution_count": 35,
     "metadata": {},
     "output_type": "execute_result"
    }
   ],
   "source": [
    "sum(1-scenario1.production_data.loc[100:, 'M2 processing'])"
   ]
  },
  {
   "cell_type": "code",
   "execution_count": 11,
   "metadata": {},
   "outputs": [
    {
     "data": {
      "text/plain": [
       "(1250, 21)"
      ]
     },
     "execution_count": 11,
     "metadata": {},
     "output_type": "execute_result"
    }
   ],
   "source": [
    "scenario1.production_data.shape"
   ]
  },
  {
   "cell_type": "code",
   "execution_count": null,
   "metadata": {
    "collapsed": true
   },
   "outputs": [],
   "source": []
  }
 ],
 "metadata": {
  "kernelspec": {
   "display_name": "Python 3",
   "language": "python",
   "name": "python3"
  },
  "language_info": {
   "codemirror_mode": {
    "name": "ipython",
    "version": 3
   },
   "file_extension": ".py",
   "mimetype": "text/x-python",
   "name": "python",
   "nbconvert_exporter": "python",
   "pygments_lexer": "ipython3",
   "version": "3.6.2"
  }
 },
 "nbformat": 4,
 "nbformat_minor": 2
}
