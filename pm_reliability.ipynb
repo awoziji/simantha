{
 "cells": [
  {
   "cell_type": "code",
   "execution_count": 255,
   "metadata": {
    "collapsed": true
   },
   "outputs": [],
   "source": [
    "# for modeling PM policies of manufacturing systems\n",
    "import numpy as np\n",
    "import pandas as pd\n",
    "\n",
    "import itertools\n",
    "import random\n",
    "import math\n",
    "import time\n",
    "\n",
    "import matplotlib.pyplot as plt\n",
    "\n",
    "import simpy"
   ]
  },
  {
   "cell_type": "code",
   "execution_count": 2,
   "metadata": {
    "collapsed": true
   },
   "outputs": [],
   "source": [
    "class Problem_Solution:\n",
    "    def __init__(self, pair, reliability=None, relia_params=None):\n",
    "        self.problem_name, self.solution_name = pair\n",
    "        self.pair = pair\n",
    "        \n",
    "        if reliability: # reliability is defined here\n",
    "            self.reliability = reliability\n",
    "            self.relia_params = relia_params\n",
    "        else: # reliability is defined elsewhere\n",
    "            # lookup reliability distribution\n",
    "            pass\n",
    "        \n",
    "    def get_ttf(self):\n",
    "        return self.reliability(*self.relia_params)"
   ]
  },
  {
   "cell_type": "code",
   "execution_count": 314,
   "metadata": {
    "collapsed": true
   },
   "outputs": [],
   "source": [
    "class Item:\n",
    "    def __init__(self, reliability=None, env=None, sim=None, repairman=None, verbose=False):\n",
    "        # get reliability for problem-solution pairs\n",
    "        #p_s_pairs = itertools.product(problems, solutions)\n",
    "        \n",
    "        #self.problem_solution_pairs = {(pair):Problem_Solution(pair) for pair in p_s_pairs}\n",
    "        \n",
    "        self.verbose = verbose\n",
    "        \n",
    "        self.reliability = reliability\n",
    "        t0_problem, t0_solution = random.choice(list(self.reliability.keys()))\n",
    "        \n",
    "        self.failed = False\n",
    "        \n",
    "        self.uptime = 0\n",
    "        \n",
    "        if env: # simulation environment\n",
    "            self.sim = sim\n",
    "            self.env = env\n",
    "            self.time_of_next_failure = self.env.now + self.get_time_to_next_failure(t0_problem, t0_solution)\n",
    "            self.process = self.env.process(self.working())\n",
    "            self.env.process(self.breakdown())\n",
    "    \n",
    "    def get_time_to_first_failure(self):\n",
    "        initial_p_s = random.choice(list(self.reliability.keys()))\n",
    "    \n",
    "    def get_time_to_next_failure(self, problem, solution):\n",
    "        # sample the lifetime distributions for each failure mode\n",
    "        # given a problem-solution to find the next failure\n",
    "        ttf, mode = 99999, None\n",
    "        lifetimes = self.reliability[(problem, solution)]\n",
    "        for failure in lifetimes.keys():\n",
    "            failure_dist, failure_params = lifetimes[failure]\n",
    "            failure_ttf = failure_dist(failure_params)\n",
    "            \n",
    "            if failure_ttf < ttf:\n",
    "                ttf = failure_ttf\n",
    "                mode = failure\n",
    "        \n",
    "        self.next_failure_mode = mode\n",
    "        self.next_ttf = math.floor(ttf[0])\n",
    "        return self.next_ttf\n",
    "    \n",
    "    def get_random_repair_mode(self, problem):\n",
    "        keys = list(self.reliability.keys())\n",
    "        repair_modes = [k[1] for k in keys if problem in k]\n",
    "        \n",
    "        return random.choice(repair_modes)\n",
    "        \n",
    "    def working(self):\n",
    "        while True:\n",
    "            try:\n",
    "                yield self.env.timeout(1)\n",
    "                self.uptime += 1\n",
    "            \n",
    "            except simpy.Interrupt:\n",
    "                #print('interrupted at {}'.format(self.env.now))\n",
    "                repair = self.get_random_repair_mode(self.next_failure_mode)\n",
    "                \n",
    "                if repair == 'replace':\n",
    "                    ttr = 5\n",
    "                else:\n",
    "                    ttr = 2\n",
    "                \n",
    "                yield self.env.timeout(ttr)\n",
    "                if self.verbose: print('Repair: {} at {}\\n'.format(repair, self.env.now))\n",
    "                \n",
    "                self.current_maint_job[0] += [repair, ttr]\n",
    "                \n",
    "                #repair_log = [[self.env.now, 'repair', repair, ttr]]\n",
    "                #repair_log = pd.DataFrame(repair_log, columns=self.sim.df_cols)\n",
    "                #self.sim.maintenance_data = self.sim.maintenance_data.append(repair_log, ignore_index=True)\n",
    "                \n",
    "                self.current_maint_job = pd.DataFrame(self.current_maint_job, columns=self.sim.df_cols)\n",
    "                self.sim.maintenance_data = self.sim.maintenance_data.append(self.current_maint_job, ignore_index=True)\n",
    "                \n",
    "                self.time_of_next_failure = self.env.now + self.get_time_to_next_failure(self.next_failure_mode, repair)\n",
    "                \n",
    "    def breakdown(self):\n",
    "        while True:\n",
    "            yield self.env.timeout(1)\n",
    "            if self.env.now == self.time_of_next_failure:\n",
    "                #print(self.time_of_next_failure)\n",
    "                self.failed = True\n",
    "                if self.verbose: print('Failure: {} at {}'.format(self.next_failure_mode, self.env.now))\n",
    "                \n",
    "                self.current_maint_job = [[self.env.now, self.next_failure_mode, self.next_ttf]]\n",
    "                \n",
    "                #failure_log = [[self.env.now, 'failure', self.next_failure_mode, self.next_ttf]]\n",
    "                #failure_log = pd.DataFrame(failure_log, columns=self.sim.df_cols)\n",
    "                #self.sim.maintenance_data = self.sim.maintenance_data.append(failure_log, ignore_index=True)\n",
    "                \n",
    "                self.process.interrupt()\n",
    "    \n",
    "    def sample_reliability_dict(self):\n",
    "        samp = '''\n",
    "    hydraulic_reliability = {('low pressure', 'tighten'):{'low pressure':(np.random.normal, (15,)),\n",
    "                                                          'leak':        (np.random.normal, (10,))},\n",
    "                             ('low pressure', 'replace'):{'low pressure':(np.random.normal, (20,)),\n",
    "                                                          'leak':        (np.random.normal, (25,))},\n",
    "                             ('leak', 'replace'):        {'leak':        (np.random.normal, (20,))}}\n",
    "    '''\n",
    "        print('Reliability distribution dictionary should be of the form:')\n",
    "        print(samp)\n",
    "                "
   ]
  },
  {
   "cell_type": "code",
   "execution_count": 315,
   "metadata": {
    "collapsed": true
   },
   "outputs": [],
   "source": [
    "class Simulation:\n",
    "    def __init__(self, relia):\n",
    "        self.relia = relia\n",
    "        \n",
    "        self.df_cols = ['time', 'failure type', 'ttf', 'repair type', 'ttr']\n",
    "        self.maintenance_data = pd.DataFrame(columns=self.df_cols)\n",
    "        \n",
    "    def simulate(self, verbose=False):\n",
    "        self.env = simpy.Environment()\n",
    "        \n",
    "        self.items = []\n",
    "        for r in self.relia:\n",
    "            self.items += [Item(r, env=self.env, sim=self, verbose=verbose)]\n",
    "            \n",
    "        print('Simulation started.\\n')\n",
    "        start_time = time.time()\n",
    "        self.env.run(until=100)\n",
    "        print('runtime: {:.4f}s'.format(time.time()-start_time))        "
   ]
  },
  {
   "cell_type": "code",
   "execution_count": 321,
   "metadata": {},
   "outputs": [
    {
     "name": "stdout",
     "output_type": "stream",
     "text": [
      "Simulation started.\n",
      "\n",
      "runtime: 0.0560s\n"
     ]
    }
   ],
   "source": [
    "# problem-solution reliability dictionary\n",
    "hydraulic = {('low pressure', 'tighten'):{'low pressure':(np.random.normal, (15,)),\n",
    "                                          'leak':        (np.random.normal, (10,))},\n",
    "             ('low pressure', 'replace'):{'low pressure':(np.random.normal, (20,)),\n",
    "                                          'leak':        (np.random.normal, (25,))},\n",
    "             ('leak', 'replace'):        {'leak':        (np.random.normal, (20,)),\n",
    "                                          'low pressure':(np.random.normal, (20,))}}\n",
    "\n",
    "hydraulic = {('low pressure', 'tighten'):{'low pressure':(np.random.exponential, (9,)),\n",
    "                                          'leak':        (np.random.exponential, (10,))},\n",
    "             ('low pressure', 'replace'):{'low pressure':(np.random.exponential, (10,)),\n",
    "                                          'leak':        (np.random.exponential, (11,))},\n",
    "             ('leak', 'replace'):        {'low pressure':(np.random.exponential, (11,)),\n",
    "                                          'leak':        (np.random.exponential, (12,))}}\n",
    "\n",
    "s = Simulation([hydraulic])\n",
    "s.simulate()"
   ]
  },
  {
   "cell_type": "code",
   "execution_count": 322,
   "metadata": {},
   "outputs": [
    {
     "data": {
      "text/html": [
       "<div>\n",
       "<style>\n",
       "    .dataframe thead tr:only-child th {\n",
       "        text-align: right;\n",
       "    }\n",
       "\n",
       "    .dataframe thead th {\n",
       "        text-align: left;\n",
       "    }\n",
       "\n",
       "    .dataframe tbody tr th {\n",
       "        vertical-align: top;\n",
       "    }\n",
       "</style>\n",
       "<table border=\"1\" class=\"dataframe\">\n",
       "  <thead>\n",
       "    <tr style=\"text-align: right;\">\n",
       "      <th></th>\n",
       "      <th>time</th>\n",
       "      <th>failure type</th>\n",
       "      <th>ttf</th>\n",
       "      <th>repair type</th>\n",
       "      <th>ttr</th>\n",
       "    </tr>\n",
       "  </thead>\n",
       "  <tbody>\n",
       "    <tr>\n",
       "      <th>0</th>\n",
       "      <td>1</td>\n",
       "      <td>leak</td>\n",
       "      <td>1</td>\n",
       "      <td>replace</td>\n",
       "      <td>5</td>\n",
       "    </tr>\n",
       "    <tr>\n",
       "      <th>1</th>\n",
       "      <td>11</td>\n",
       "      <td>low pressure</td>\n",
       "      <td>5</td>\n",
       "      <td>tighten</td>\n",
       "      <td>2</td>\n",
       "    </tr>\n",
       "    <tr>\n",
       "      <th>2</th>\n",
       "      <td>13</td>\n",
       "      <td>leak</td>\n",
       "      <td>0</td>\n",
       "      <td>replace</td>\n",
       "      <td>5</td>\n",
       "    </tr>\n",
       "    <tr>\n",
       "      <th>3</th>\n",
       "      <td>31</td>\n",
       "      <td>leak</td>\n",
       "      <td>13</td>\n",
       "      <td>replace</td>\n",
       "      <td>5</td>\n",
       "    </tr>\n",
       "    <tr>\n",
       "      <th>4</th>\n",
       "      <td>40</td>\n",
       "      <td>leak</td>\n",
       "      <td>4</td>\n",
       "      <td>replace</td>\n",
       "      <td>5</td>\n",
       "    </tr>\n",
       "    <tr>\n",
       "      <th>5</th>\n",
       "      <td>55</td>\n",
       "      <td>low pressure</td>\n",
       "      <td>10</td>\n",
       "      <td>tighten</td>\n",
       "      <td>2</td>\n",
       "    </tr>\n",
       "    <tr>\n",
       "      <th>6</th>\n",
       "      <td>60</td>\n",
       "      <td>leak</td>\n",
       "      <td>3</td>\n",
       "      <td>replace</td>\n",
       "      <td>5</td>\n",
       "    </tr>\n",
       "    <tr>\n",
       "      <th>7</th>\n",
       "      <td>71</td>\n",
       "      <td>low pressure</td>\n",
       "      <td>6</td>\n",
       "      <td>replace</td>\n",
       "      <td>5</td>\n",
       "    </tr>\n",
       "    <tr>\n",
       "      <th>8</th>\n",
       "      <td>82</td>\n",
       "      <td>leak</td>\n",
       "      <td>6</td>\n",
       "      <td>replace</td>\n",
       "      <td>5</td>\n",
       "    </tr>\n",
       "    <tr>\n",
       "      <th>9</th>\n",
       "      <td>87</td>\n",
       "      <td>low pressure</td>\n",
       "      <td>0</td>\n",
       "      <td>replace</td>\n",
       "      <td>5</td>\n",
       "    </tr>\n",
       "    <tr>\n",
       "      <th>10</th>\n",
       "      <td>92</td>\n",
       "      <td>low pressure</td>\n",
       "      <td>0</td>\n",
       "      <td>tighten</td>\n",
       "      <td>2</td>\n",
       "    </tr>\n",
       "    <tr>\n",
       "      <th>11</th>\n",
       "      <td>95</td>\n",
       "      <td>low pressure</td>\n",
       "      <td>1</td>\n",
       "      <td>tighten</td>\n",
       "      <td>2</td>\n",
       "    </tr>\n",
       "  </tbody>\n",
       "</table>\n",
       "</div>"
      ],
      "text/plain": [
       "   time  failure type ttf repair type ttr\n",
       "0     1          leak   1     replace   5\n",
       "1    11  low pressure   5     tighten   2\n",
       "2    13          leak   0     replace   5\n",
       "3    31          leak  13     replace   5\n",
       "4    40          leak   4     replace   5\n",
       "5    55  low pressure  10     tighten   2\n",
       "6    60          leak   3     replace   5\n",
       "7    71  low pressure   6     replace   5\n",
       "8    82          leak   6     replace   5\n",
       "9    87  low pressure   0     replace   5\n",
       "10   92  low pressure   0     tighten   2\n",
       "11   95  low pressure   1     tighten   2"
      ]
     },
     "execution_count": 322,
     "metadata": {},
     "output_type": "execute_result"
    }
   ],
   "source": [
    "s.maintenance_data"
   ]
  },
  {
   "cell_type": "code",
   "execution_count": 294,
   "metadata": {},
   "outputs": [
    {
     "data": {
      "text/html": [
       "<div>\n",
       "<style>\n",
       "    .dataframe thead tr:only-child th {\n",
       "        text-align: right;\n",
       "    }\n",
       "\n",
       "    .dataframe thead th {\n",
       "        text-align: left;\n",
       "    }\n",
       "\n",
       "    .dataframe tbody tr th {\n",
       "        vertical-align: top;\n",
       "    }\n",
       "</style>\n",
       "<table border=\"1\" class=\"dataframe\">\n",
       "  <thead>\n",
       "    <tr style=\"text-align: right;\">\n",
       "      <th></th>\n",
       "      <th>time</th>\n",
       "      <th>type</th>\n",
       "      <th>name</th>\n",
       "      <th>ttf/ttr</th>\n",
       "    </tr>\n",
       "  </thead>\n",
       "  <tbody>\n",
       "    <tr>\n",
       "      <th>0</th>\n",
       "      <td>8</td>\n",
       "      <td>failure</td>\n",
       "      <td>low pressure</td>\n",
       "      <td>8</td>\n",
       "    </tr>\n",
       "    <tr>\n",
       "      <th>2</th>\n",
       "      <td>12</td>\n",
       "      <td>failure</td>\n",
       "      <td>low pressure</td>\n",
       "      <td>1</td>\n",
       "    </tr>\n",
       "    <tr>\n",
       "      <th>4</th>\n",
       "      <td>22</td>\n",
       "      <td>failure</td>\n",
       "      <td>leak</td>\n",
       "      <td>7</td>\n",
       "    </tr>\n",
       "    <tr>\n",
       "      <th>6</th>\n",
       "      <td>35</td>\n",
       "      <td>failure</td>\n",
       "      <td>leak</td>\n",
       "      <td>10</td>\n",
       "    </tr>\n",
       "    <tr>\n",
       "      <th>8</th>\n",
       "      <td>38</td>\n",
       "      <td>failure</td>\n",
       "      <td>leak</td>\n",
       "      <td>0</td>\n",
       "    </tr>\n",
       "    <tr>\n",
       "      <th>10</th>\n",
       "      <td>46</td>\n",
       "      <td>failure</td>\n",
       "      <td>low pressure</td>\n",
       "      <td>5</td>\n",
       "    </tr>\n",
       "    <tr>\n",
       "      <th>12</th>\n",
       "      <td>52</td>\n",
       "      <td>failure</td>\n",
       "      <td>low pressure</td>\n",
       "      <td>3</td>\n",
       "    </tr>\n",
       "    <tr>\n",
       "      <th>14</th>\n",
       "      <td>57</td>\n",
       "      <td>failure</td>\n",
       "      <td>low pressure</td>\n",
       "      <td>2</td>\n",
       "    </tr>\n",
       "    <tr>\n",
       "      <th>16</th>\n",
       "      <td>71</td>\n",
       "      <td>failure</td>\n",
       "      <td>leak</td>\n",
       "      <td>11</td>\n",
       "    </tr>\n",
       "    <tr>\n",
       "      <th>18</th>\n",
       "      <td>75</td>\n",
       "      <td>failure</td>\n",
       "      <td>low pressure</td>\n",
       "      <td>1</td>\n",
       "    </tr>\n",
       "    <tr>\n",
       "      <th>20</th>\n",
       "      <td>82</td>\n",
       "      <td>failure</td>\n",
       "      <td>low pressure</td>\n",
       "      <td>4</td>\n",
       "    </tr>\n",
       "    <tr>\n",
       "      <th>22</th>\n",
       "      <td>98</td>\n",
       "      <td>failure</td>\n",
       "      <td>leak</td>\n",
       "      <td>13</td>\n",
       "    </tr>\n",
       "  </tbody>\n",
       "</table>\n",
       "</div>"
      ],
      "text/plain": [
       "   time     type          name ttf/ttr\n",
       "0     8  failure  low pressure       8\n",
       "2    12  failure  low pressure       1\n",
       "4    22  failure          leak       7\n",
       "6    35  failure          leak      10\n",
       "8    38  failure          leak       0\n",
       "10   46  failure  low pressure       5\n",
       "12   52  failure  low pressure       3\n",
       "14   57  failure  low pressure       2\n",
       "16   71  failure          leak      11\n",
       "18   75  failure  low pressure       1\n",
       "20   82  failure  low pressure       4\n",
       "22   98  failure          leak      13"
      ]
     },
     "execution_count": 294,
     "metadata": {},
     "output_type": "execute_result"
    }
   ],
   "source": [
    "s.maintenance_data[s.maintenance_data['type']=='failure']"
   ]
  },
  {
   "cell_type": "code",
   "execution_count": 179,
   "metadata": {},
   "outputs": [
    {
     "data": {
      "text/plain": [
       "87"
      ]
     },
     "execution_count": 179,
     "metadata": {},
     "output_type": "execute_result"
    }
   ],
   "source": [
    "s.items[0].uptime"
   ]
  },
  {
   "cell_type": "code",
   "execution_count": 87,
   "metadata": {
    "collapsed": true
   },
   "outputs": [],
   "source": [
    "hydraulic = Item(problems, solutions, hydraulic_reliability)"
   ]
  },
  {
   "cell_type": "code",
   "execution_count": 95,
   "metadata": {},
   "outputs": [
    {
     "data": {
      "text/plain": [
       "'tighten'"
      ]
     },
     "execution_count": 95,
     "metadata": {},
     "output_type": "execute_result"
    }
   ],
   "source": [
    "hydraulic.get_random_repair_mode('low pressure')"
   ]
  },
  {
   "cell_type": "code",
   "execution_count": 21,
   "metadata": {},
   "outputs": [
    {
     "name": "stdout",
     "output_type": "stream",
     "text": [
      "low pressure\n",
      "leak\n"
     ]
    }
   ],
   "source": [
    "for k in hydraulic_reliability[('low pressure', 'tighten')].keys(): print(k)"
   ]
  },
  {
   "cell_type": "code",
   "execution_count": 58,
   "metadata": {},
   "outputs": [
    {
     "name": "stdout",
     "output_type": "stream",
     "text": [
      "\n",
      "hydraulic_reliability = {('low pressure', 'tighten'):{'low pressure':(np.random.normal, (15,)),\n",
      "                                                      'leak':        (np.random.normal, (10,))},\n",
      "                         ('low pressure', 'replace'):{'low pressure':(np.random.normal, (20,)),\n",
      "                                                      'leak':        (np.random.normal, (25,))},\n",
      "                         ('leak', 'replace'):        {'leak':        (np.random.normal, (20,))}}\n",
      "\n"
     ]
    }
   ],
   "source": [
    "print(a)"
   ]
  },
  {
   "cell_type": "code",
   "execution_count": 251,
   "metadata": {},
   "outputs": [
    {
     "data": {
      "text/plain": [
       "(<function RandomState.normal>, (25,))"
      ]
     },
     "execution_count": 251,
     "metadata": {},
     "output_type": "execute_result"
    }
   ],
   "source": [
    "# problem-solution reliability dictionary\n",
    "hydraulic = {('low pressure', 'tighten'):{'low pressure':(np.random.normal, (15,)),\n",
    "                                          'leak':        (np.random.normal, (10,))},\n",
    "             ('low pressure', 'replace'):{'low pressure':(np.random.normal, (20,)),\n",
    "                                          'leak':        (np.random.normal, (25,))},\n",
    "             ('leak', 'replace'):        {'leak':        (np.random.normal, (20,)),\n",
    "                                          'low pressure':(np.random.normal, (20,))}}\n",
    "\n",
    "problem_solution = hydraulic_reliability[('low pressure', 'replace')]\n",
    "problem_solution['leak']"
   ]
  },
  {
   "cell_type": "code",
   "execution_count": 9,
   "metadata": {
    "collapsed": true
   },
   "outputs": [],
   "source": [
    "dist, params = hydraulic_reliability['low pressure', 'tighten']"
   ]
  },
  {
   "cell_type": "code",
   "execution_count": 11,
   "metadata": {},
   "outputs": [
    {
     "data": {
      "text/plain": [
       "array([8.44542028])"
      ]
     },
     "execution_count": 11,
     "metadata": {},
     "output_type": "execute_result"
    }
   ],
   "source": [
    "dist(params)"
   ]
  },
  {
   "cell_type": "code",
   "execution_count": 54,
   "metadata": {},
   "outputs": [
    {
     "data": {
      "text/plain": [
       "10.37867770459179"
      ]
     },
     "execution_count": 54,
     "metadata": {},
     "output_type": "execute_result"
    }
   ],
   "source": [
    "hydraulic.problem_solution_pairs[('leak', 'tighten')].get_ttf()"
   ]
  },
  {
   "cell_type": "code",
   "execution_count": null,
   "metadata": {
    "collapsed": true
   },
   "outputs": [],
   "source": [
    "x = np.arange()"
   ]
  }
 ],
 "metadata": {
  "kernelspec": {
   "display_name": "Python 3",
   "language": "python",
   "name": "python3"
  },
  "language_info": {
   "codemirror_mode": {
    "name": "ipython",
    "version": 3
   },
   "file_extension": ".py",
   "mimetype": "text/x-python",
   "name": "python",
   "nbconvert_exporter": "python",
   "pygments_lexer": "ipython3",
   "version": "3.6.2"
  }
 },
 "nbformat": 4,
 "nbformat_minor": 2
}
