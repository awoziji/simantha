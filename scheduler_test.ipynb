{
 "cells": [
  {
   "cell_type": "code",
   "execution_count": 1,
   "metadata": {},
   "outputs": [],
   "source": [
    "import maintsim\n",
    "\n",
    "import matplotlib.pyplot as plt\n",
    "import numpy as np\n",
    "from scipy import stats"
   ]
  },
  {
   "cell_type": "code",
   "execution_count": 5,
   "metadata": {},
   "outputs": [
    {
     "name": "stdout",
     "output_type": "stream",
     "text": [
      "Scheduler initialized\n"
     ]
    }
   ],
   "source": [
    "sys = maintsim.System(process_times=[3, 5, 2],\n",
    "                      failure_mode='degradation',\n",
    "                      failure_params=[0.3]*3,\n",
    "                      repair_params={'CM':stats.randint(10,20)},\n",
    "                      scheduling='priority',\n",
    "                      maintenance_capacity=1)#,\n",
    "                      #planned_failures=[(1,30,20)])"
   ]
  },
  {
   "cell_type": "code",
   "execution_count": 6,
   "metadata": {},
   "outputs": [
    {
     "name": "stdout",
     "output_type": "stream",
     "text": [
      "Scheduler initialized\n",
      "1 []\n",
      "scanning queue at t=1\n",
      "2 []\n",
      "scanning queue at t=2\n",
      "3 []\n",
      "scanning queue at t=3\n",
      "4 []\n",
      "scanning queue at t=4\n",
      "5 []\n",
      "scanning queue at t=5\n",
      "6 []\n",
      "scanning queue at t=6\n",
      "7 []\n",
      "scanning queue at t=7\n",
      "8 []\n",
      "scanning queue at t=8\n",
      "9 []\n",
      "scanning queue at t=9\n",
      "10 []\n",
      "scanning queue at t=10\n",
      "11 []\n",
      "scanning queue at t=11\n",
      "12 []\n",
      "scanning queue at t=12\n",
      "13 []\n",
      "scanning queue at t=13\n",
      "14 []\n",
      "scanning queue at t=14\n",
      "15 []\n",
      "scanning queue at t=15\n",
      "16 []\n",
      "scanning queue at t=16\n",
      "17 []\n",
      "scanning queue at t=17\n",
      "18 []\n",
      "scanning queue at t=18\n",
      "19 []\n",
      "scanning queue at t=19\n",
      "20 []\n",
      "scanning queue at t=20\n",
      "21 []\n",
      "scanning queue at t=21\n",
      "22 []\n",
      "scanning queue at t=22\n",
      "23 []\n",
      "scanning queue at t=23\n",
      "24 []\n",
      "scanning queue at t=24\n",
      "25 []\n",
      "scanning queue at t=25\n",
      "26 []\n",
      "scanning queue at t=26\n",
      "27 []\n",
      "scanning queue at t=27\n",
      "28 []\n",
      "scanning queue at t=28\n",
      "29 []\n",
      "scanning queue at t=29\n",
      "30 []\n",
      "scanning queue at t=30\n",
      "31 []\n",
      "scanning queue at t=31\n",
      "32 []\n",
      "scanning queue at t=32\n",
      "33 []\n",
      "scanning queue at t=33\n",
      "34 []\n",
      "scanning queue at t=34\n",
      "M1 failed at t=35\n",
      "35 ['M1']\n",
      "scanning queue at t=35\n",
      "M1 alone in queue\n",
      "M0 failed at t=36\n",
      "36 ['M0']\n",
      "37 ['M0']\n",
      "38 ['M0']\n",
      "39 ['M0']\n",
      "40 ['M0']\n",
      "41 ['M0']\n",
      "42 ['M0']\n",
      "43 ['M0']\n",
      "M2 failed at t=44\n",
      "44 ['M0', 'M2']\n",
      "45 ['M0', 'M2']\n",
      "46 ['M0', 'M2']\n",
      "47 ['M0', 'M2']\n",
      "48 ['M0', 'M2']\n",
      "49 ['M0', 'M2']\n",
      "50 ['M0', 'M2']\n",
      "51 ['M0', 'M2']\n",
      "52 ['M0', 'M2']\n",
      "53 ['M0', 'M2']\n",
      "54 ['M0', 'M2']\n",
      "M1 repaired at t=55\n",
      "maintenance complete for M1\n",
      "55 ['M0', 'M2']\n",
      "scanning queue at t=55\n",
      "Multiple machines in queue\n",
      "56 ['M2']\n",
      "57 ['M2']\n",
      "58 ['M2']\n",
      "59 ['M2']\n",
      "60 ['M2']\n",
      "61 ['M2']\n",
      "62 ['M2']\n",
      "63 ['M2']\n",
      "64 ['M2']\n",
      "65 ['M2']\n",
      "66 ['M2']\n",
      "67 ['M2']\n",
      "68 ['M2']\n",
      "69 ['M2']\n",
      "M0 repaired at t=70\n",
      "maintenance complete for M0\n",
      "70 ['M2']\n",
      "scanning queue at t=70\n",
      "M2 alone in queue\n",
      "71 []\n",
      "72 []\n",
      "73 []\n",
      "74 []\n",
      "75 []\n",
      "76 []\n",
      "77 []\n",
      "78 []\n",
      "79 []\n",
      "80 []\n",
      "81 []\n",
      "82 []\n",
      "83 []\n",
      "84 []\n",
      "85 []\n",
      "86 []\n",
      "M2 repaired at t=87\n",
      "maintenance complete for M2\n",
      "87 []\n",
      "scanning queue at t=87\n",
      "88 []\n",
      "scanning queue at t=88\n",
      "M1 failed at t=89\n",
      "89 ['M1']\n",
      "scanning queue at t=89\n",
      "M1 alone in queue\n",
      "90 []\n",
      "91 []\n",
      "92 []\n",
      "93 []\n",
      "94 []\n",
      "95 []\n",
      "96 []\n",
      "97 []\n",
      "98 []\n",
      "99 []\n",
      "M1 repaired at t=100\n",
      "maintenance complete for M1\n",
      "100 []\n",
      "scanning queue at t=100\n",
      "Simulation complete in 0.21s\n",
      "\n",
      "  Units produced:      8\n",
      "  System availability: 80.33%\n",
      "\n"
     ]
    }
   ],
   "source": [
    "sys.simulate(sim_time=100)"
   ]
  },
  {
   "cell_type": "code",
   "execution_count": 7,
   "metadata": {},
   "outputs": [
    {
     "data": {
      "text/html": [
       "<div>\n",
       "<style scoped>\n",
       "    .dataframe tbody tr th:only-of-type {\n",
       "        vertical-align: middle;\n",
       "    }\n",
       "\n",
       "    .dataframe tbody tr th {\n",
       "        vertical-align: top;\n",
       "    }\n",
       "\n",
       "    .dataframe thead th {\n",
       "        text-align: right;\n",
       "    }\n",
       "</style>\n",
       "<table border=\"1\" class=\"dataframe\">\n",
       "  <thead>\n",
       "    <tr style=\"text-align: right;\">\n",
       "      <th></th>\n",
       "      <th>time</th>\n",
       "      <th>machine</th>\n",
       "      <th>type</th>\n",
       "      <th>activity</th>\n",
       "      <th>duration</th>\n",
       "    </tr>\n",
       "  </thead>\n",
       "  <tbody>\n",
       "    <tr>\n",
       "      <th>0</th>\n",
       "      <td>36</td>\n",
       "      <td>1</td>\n",
       "      <td>CM</td>\n",
       "      <td>failure</td>\n",
       "      <td>NA</td>\n",
       "    </tr>\n",
       "    <tr>\n",
       "      <th>1</th>\n",
       "      <td>55</td>\n",
       "      <td>1</td>\n",
       "      <td>CM</td>\n",
       "      <td>repair</td>\n",
       "      <td>19</td>\n",
       "    </tr>\n",
       "    <tr>\n",
       "      <th>2</th>\n",
       "      <td>56</td>\n",
       "      <td>0</td>\n",
       "      <td>CM</td>\n",
       "      <td>failure</td>\n",
       "      <td>NA</td>\n",
       "    </tr>\n",
       "    <tr>\n",
       "      <th>3</th>\n",
       "      <td>70</td>\n",
       "      <td>0</td>\n",
       "      <td>CM</td>\n",
       "      <td>repair</td>\n",
       "      <td>14</td>\n",
       "    </tr>\n",
       "    <tr>\n",
       "      <th>4</th>\n",
       "      <td>71</td>\n",
       "      <td>2</td>\n",
       "      <td>CM</td>\n",
       "      <td>failure</td>\n",
       "      <td>NA</td>\n",
       "    </tr>\n",
       "    <tr>\n",
       "      <th>5</th>\n",
       "      <td>87</td>\n",
       "      <td>2</td>\n",
       "      <td>CM</td>\n",
       "      <td>repair</td>\n",
       "      <td>16</td>\n",
       "    </tr>\n",
       "    <tr>\n",
       "      <th>6</th>\n",
       "      <td>90</td>\n",
       "      <td>1</td>\n",
       "      <td>CM</td>\n",
       "      <td>failure</td>\n",
       "      <td>35</td>\n",
       "    </tr>\n",
       "    <tr>\n",
       "      <th>7</th>\n",
       "      <td>100</td>\n",
       "      <td>1</td>\n",
       "      <td>CM</td>\n",
       "      <td>repair</td>\n",
       "      <td>10</td>\n",
       "    </tr>\n",
       "  </tbody>\n",
       "</table>\n",
       "</div>"
      ],
      "text/plain": [
       "   time machine type activity duration\n",
       "0    36       1   CM  failure       NA\n",
       "1    55       1   CM   repair       19\n",
       "2    56       0   CM  failure       NA\n",
       "3    70       0   CM   repair       14\n",
       "4    71       2   CM  failure       NA\n",
       "5    87       2   CM   repair       16\n",
       "6    90       1   CM  failure       35\n",
       "7   100       1   CM   repair       10"
      ]
     },
     "execution_count": 7,
     "metadata": {},
     "output_type": "execute_result"
    }
   ],
   "source": [
    "sys.maintenance_data"
   ]
  },
  {
   "cell_type": "code",
   "execution_count": 9,
   "metadata": {},
   "outputs": [
    {
     "data": {
      "image/png": "[encoded data removed]",
      "text/plain": [
       "<Figure size 864x432 with 1 Axes>"
      ]
     },
     "metadata": {
      "needs_background": "light"
     },
     "output_type": "display_data"
    }
   ],
   "source": [
    "plt.figure(figsize=(12,6))\n",
    "for i in range(sys.M):\n",
    "    plt.plot(sys.machine_data['M{} health'.format(i)], label='M{}'.format(i))\n",
    "plt.legend()\n",
    "plt.show()"
   ]
  },
  {
   "cell_type": "code",
   "execution_count": 4,
   "metadata": {},
   "outputs": [
    {
     "data": {
      "text/html": [
       "<div>\n",
       "<style scoped>\n",
       "    .dataframe tbody tr th:only-of-type {\n",
       "        vertical-align: middle;\n",
       "    }\n",
       "\n",
       "    .dataframe tbody tr th {\n",
       "        vertical-align: top;\n",
       "    }\n",
       "\n",
       "    .dataframe thead th {\n",
       "        text-align: right;\n",
       "    }\n",
       "</style>\n",
       "<table border=\"1\" class=\"dataframe\">\n",
       "  <thead>\n",
       "    <tr style=\"text-align: right;\">\n",
       "      <th></th>\n",
       "      <th>time</th>\n",
       "      <th>machine</th>\n",
       "      <th>type</th>\n",
       "      <th>activity</th>\n",
       "      <th>duration</th>\n",
       "    </tr>\n",
       "  </thead>\n",
       "  <tbody>\n",
       "    <tr>\n",
       "      <th>100</th>\n",
       "      <td>59</td>\n",
       "      <td>0</td>\n",
       "      <td>CM</td>\n",
       "      <td>failure</td>\n",
       "      <td>NA</td>\n",
       "    </tr>\n",
       "    <tr>\n",
       "      <th>101</th>\n",
       "      <td>59</td>\n",
       "      <td>2</td>\n",
       "      <td>CM</td>\n",
       "      <td>failure</td>\n",
       "      <td>NA</td>\n",
       "    </tr>\n",
       "    <tr>\n",
       "      <th>0</th>\n",
       "      <td>93</td>\n",
       "      <td>2</td>\n",
       "      <td>CM</td>\n",
       "      <td>repair</td>\n",
       "      <td>15</td>\n",
       "    </tr>\n",
       "  </tbody>\n",
       "</table>\n",
       "</div>"
      ],
      "text/plain": [
       "     time machine type activity duration\n",
       "100    59       0   CM  failure       NA\n",
       "101    59       2   CM  failure       NA\n",
       "0      93       2   CM   repair       15"
      ]
     },
     "execution_count": 4,
     "metadata": {},
     "output_type": "execute_result"
    }
   ],
   "source": [
    "sys.maintenance_data.dropna()"
   ]
  },
  {
   "cell_type": "code",
   "execution_count": 6,
   "metadata": {},
   "outputs": [
    {
     "data": {
      "text/plain": [
       "10"
      ]
     },
     "execution_count": 6,
     "metadata": {},
     "output_type": "execute_result"
    }
   ],
   "source": [
    "sys.machines[1].health"
   ]
  },
  {
   "cell_type": "code",
   "execution_count": 5,
   "metadata": {},
   "outputs": [
    {
     "data": {
      "image/png": "[encoded data removed]",
      "text/plain": [
       "<Figure size 864x432 with 1 Axes>"
      ]
     },
     "metadata": {
      "needs_background": "light"
     },
     "output_type": "display_data"
    }
   ],
   "source": [
    "plt.figure(figsize=(12,6))\n",
    "plt.plot(sys.machine_data['M1 health'])\n",
    "plt.xticks(list(range(0,101,4)))\n",
    "plt.grid()\n",
    "plt.show()"
   ]
  },
  {
   "cell_type": "code",
   "execution_count": 7,
   "metadata": {},
   "outputs": [
    {
     "data": {
      "image/png": "[encoded data removed]",
      "text/plain": [
       "<Figure size 864x432 with 1 Axes>"
      ]
     },
     "metadata": {
      "needs_background": "light"
     },
     "output_type": "display_data"
    }
   ],
   "source": [
    "plt.figure(figsize=(12,6))\n",
    "plt.plot(sys.production_data['M1 production'])\n",
    "plt.xticks(list(range(0,101,4)))\n",
    "plt.grid()\n",
    "plt.show()"
   ]
  },
  {
   "cell_type": "code",
   "execution_count": null,
   "metadata": {},
   "outputs": [],
   "source": []
  }
 ],
 "metadata": {
  "kernelspec": {
   "display_name": "Python 3",
   "language": "python",
   "name": "python3"
  },
  "language_info": {
   "codemirror_mode": {
    "name": "ipython",
    "version": 3
   },
   "file_extension": ".py",
   "mimetype": "text/x-python",
   "name": "python",
   "nbconvert_exporter": "python",
   "pygments_lexer": "ipython3",
   "version": "3.7.1"
  }
 },
 "nbformat": 4,
 "nbformat_minor": 2
}
