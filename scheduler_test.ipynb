{
 "cells": [
  {
   "cell_type": "code",
   "execution_count": 1,
   "metadata": {},
   "outputs": [],
   "source": [
    "import maintsim\n",
    "\n",
    "import random\n",
    "import matplotlib.pyplot as plt\n",
    "import numpy as np\n",
    "from scipy import stats"
   ]
  },
  {
   "cell_type": "code",
   "execution_count": 2,
   "metadata": {},
   "outputs": [
    {
     "name": "stdout",
     "output_type": "stream",
     "text": [
      "Simulation complete in 0.25s\n",
      "\n",
      "  Units produced:      17\n",
      "  System availability: 100.00%\n",
      "\n"
     ]
    }
   ],
   "source": [
    "sys = maintsim.System(process_times=[3,5,2],\n",
    "                      planned_failures=[(1,90,20)],\n",
    "                      maintenance_capacity=1)\n",
    "sys.simulate(sim_time=100)"
   ]
  },
  {
   "cell_type": "code",
   "execution_count": 8,
   "metadata": {},
   "outputs": [
    {
     "data": {
      "text/plain": [
       "12"
      ]
     },
     "execution_count": 8,
     "metadata": {},
     "output_type": "execute_result"
    }
   ],
   "source": [
    "sys.machines[1].total_downtime"
   ]
  },
  {
   "cell_type": "code",
   "execution_count": 9,
   "metadata": {},
   "outputs": [
    {
     "data": {
      "text/html": [
       "<div>\n",
       "<style scoped>\n",
       "    .dataframe tbody tr th:only-of-type {\n",
       "        vertical-align: middle;\n",
       "    }\n",
       "\n",
       "    .dataframe tbody tr th {\n",
       "        vertical-align: top;\n",
       "    }\n",
       "\n",
       "    .dataframe thead th {\n",
       "        text-align: right;\n",
       "    }\n",
       "</style>\n",
       "<table border=\"1\" class=\"dataframe\">\n",
       "  <thead>\n",
       "    <tr style=\"text-align: right;\">\n",
       "      <th></th>\n",
       "      <th>time</th>\n",
       "      <th>M0 functional</th>\n",
       "      <th>M0 forced idle</th>\n",
       "      <th>M0 health</th>\n",
       "      <th>M1 functional</th>\n",
       "      <th>M1 forced idle</th>\n",
       "      <th>M1 health</th>\n",
       "      <th>M2 functional</th>\n",
       "      <th>M2 forced idle</th>\n",
       "      <th>M2 health</th>\n",
       "    </tr>\n",
       "  </thead>\n",
       "  <tbody>\n",
       "    <tr>\n",
       "      <th>0</th>\n",
       "      <td>0</td>\n",
       "      <td>1</td>\n",
       "      <td>0</td>\n",
       "      <td>0.0</td>\n",
       "      <td>1</td>\n",
       "      <td>1</td>\n",
       "      <td>0.0</td>\n",
       "      <td>1</td>\n",
       "      <td>1</td>\n",
       "      <td>0.0</td>\n",
       "    </tr>\n",
       "    <tr>\n",
       "      <th>1</th>\n",
       "      <td>1</td>\n",
       "      <td>1</td>\n",
       "      <td>0</td>\n",
       "      <td>0.0</td>\n",
       "      <td>1</td>\n",
       "      <td>1</td>\n",
       "      <td>0.0</td>\n",
       "      <td>1</td>\n",
       "      <td>1</td>\n",
       "      <td>0.0</td>\n",
       "    </tr>\n",
       "    <tr>\n",
       "      <th>2</th>\n",
       "      <td>2</td>\n",
       "      <td>1</td>\n",
       "      <td>0</td>\n",
       "      <td>0.0</td>\n",
       "      <td>1</td>\n",
       "      <td>1</td>\n",
       "      <td>0.0</td>\n",
       "      <td>1</td>\n",
       "      <td>1</td>\n",
       "      <td>0.0</td>\n",
       "    </tr>\n",
       "    <tr>\n",
       "      <th>3</th>\n",
       "      <td>3</td>\n",
       "      <td>1</td>\n",
       "      <td>0</td>\n",
       "      <td>0.0</td>\n",
       "      <td>1</td>\n",
       "      <td>0</td>\n",
       "      <td>0.0</td>\n",
       "      <td>1</td>\n",
       "      <td>1</td>\n",
       "      <td>0.0</td>\n",
       "    </tr>\n",
       "    <tr>\n",
       "      <th>4</th>\n",
       "      <td>4</td>\n",
       "      <td>1</td>\n",
       "      <td>0</td>\n",
       "      <td>0.0</td>\n",
       "      <td>1</td>\n",
       "      <td>0</td>\n",
       "      <td>0.0</td>\n",
       "      <td>1</td>\n",
       "      <td>1</td>\n",
       "      <td>0.0</td>\n",
       "    </tr>\n",
       "    <tr>\n",
       "      <th>5</th>\n",
       "      <td>5</td>\n",
       "      <td>1</td>\n",
       "      <td>0</td>\n",
       "      <td>0.0</td>\n",
       "      <td>1</td>\n",
       "      <td>0</td>\n",
       "      <td>0.0</td>\n",
       "      <td>1</td>\n",
       "      <td>1</td>\n",
       "      <td>0.0</td>\n",
       "    </tr>\n",
       "    <tr>\n",
       "      <th>6</th>\n",
       "      <td>6</td>\n",
       "      <td>1</td>\n",
       "      <td>0</td>\n",
       "      <td>0.0</td>\n",
       "      <td>1</td>\n",
       "      <td>0</td>\n",
       "      <td>0.0</td>\n",
       "      <td>1</td>\n",
       "      <td>1</td>\n",
       "      <td>0.0</td>\n",
       "    </tr>\n",
       "    <tr>\n",
       "      <th>7</th>\n",
       "      <td>7</td>\n",
       "      <td>1</td>\n",
       "      <td>0</td>\n",
       "      <td>0.0</td>\n",
       "      <td>1</td>\n",
       "      <td>0</td>\n",
       "      <td>0.0</td>\n",
       "      <td>1</td>\n",
       "      <td>1</td>\n",
       "      <td>0.0</td>\n",
       "    </tr>\n",
       "    <tr>\n",
       "      <th>8</th>\n",
       "      <td>8</td>\n",
       "      <td>1</td>\n",
       "      <td>0</td>\n",
       "      <td>0.0</td>\n",
       "      <td>1</td>\n",
       "      <td>0</td>\n",
       "      <td>0.0</td>\n",
       "      <td>1</td>\n",
       "      <td>0</td>\n",
       "      <td>0.0</td>\n",
       "    </tr>\n",
       "    <tr>\n",
       "      <th>9</th>\n",
       "      <td>9</td>\n",
       "      <td>1</td>\n",
       "      <td>0</td>\n",
       "      <td>0.0</td>\n",
       "      <td>1</td>\n",
       "      <td>0</td>\n",
       "      <td>0.0</td>\n",
       "      <td>1</td>\n",
       "      <td>0</td>\n",
       "      <td>0.0</td>\n",
       "    </tr>\n",
       "  </tbody>\n",
       "</table>\n",
       "</div>"
      ],
      "text/plain": [
       "   time  M0 functional  M0 forced idle  M0 health  M1 functional  \\\n",
       "0     0              1               0        0.0              1   \n",
       "1     1              1               0        0.0              1   \n",
       "2     2              1               0        0.0              1   \n",
       "3     3              1               0        0.0              1   \n",
       "4     4              1               0        0.0              1   \n",
       "5     5              1               0        0.0              1   \n",
       "6     6              1               0        0.0              1   \n",
       "7     7              1               0        0.0              1   \n",
       "8     8              1               0        0.0              1   \n",
       "9     9              1               0        0.0              1   \n",
       "\n",
       "   M1 forced idle  M1 health  M2 functional  M2 forced idle  M2 health  \n",
       "0               1        0.0              1               1        0.0  \n",
       "1               1        0.0              1               1        0.0  \n",
       "2               1        0.0              1               1        0.0  \n",
       "3               0        0.0              1               1        0.0  \n",
       "4               0        0.0              1               1        0.0  \n",
       "5               0        0.0              1               1        0.0  \n",
       "6               0        0.0              1               1        0.0  \n",
       "7               0        0.0              1               1        0.0  \n",
       "8               0        0.0              1               0        0.0  \n",
       "9               0        0.0              1               0        0.0  "
      ]
     },
     "execution_count": 9,
     "metadata": {},
     "output_type": "execute_result"
    }
   ],
   "source": [
    "sys.machine_data[:10]"
   ]
  },
  {
   "cell_type": "code",
   "execution_count": 5,
   "metadata": {},
   "outputs": [
    {
     "data": {
      "text/plain": [
       "12"
      ]
     },
     "execution_count": 5,
     "metadata": {},
     "output_type": "execute_result"
    }
   ],
   "source": [
    "sum(sys.machine_data['M1 forced idle'])"
   ]
  },
  {
   "cell_type": "code",
   "execution_count": 12,
   "metadata": {},
   "outputs": [],
   "source": [
    "sys.machine_data.to_csv('/Users/mlh6/Downloads/sim_output.csv')"
   ]
  },
  {
   "cell_type": "code",
   "execution_count": 2,
   "metadata": {},
   "outputs": [
    {
     "name": "stdout",
     "output_type": "stream",
     "text": [
      "Simulation complete in 0.31s\n",
      "\n",
      "  Units produced:      6\n",
      "  System availability: 72.67%\n",
      "\n"
     ]
    }
   ],
   "source": [
    "random.seed(1234)\n",
    "sys = maintsim.System(process_times=[3, 5, 2],\n",
    "                      failure_mode='degradation',\n",
    "                      failure_params=[0.4]*3,\n",
    "                      initial_health=[0,0,8],\n",
    "                      maintenance_policy='CBM',\n",
    "                      maintenance_params={'CBM threshold':[8,8,6]},\n",
    "                      repair_params={'CM':stats.randint(10,20),\n",
    "                                     'CBM':stats.randint(5,10)},\n",
    "                      scheduler=maintsim.Scheduler(),\n",
    "                      maintenance_capacity=1,\n",
    "                      allow_new_maintenance=True)\n",
    "sys.simulate(sim_time=100)"
   ]
  },
  {
   "cell_type": "code",
   "execution_count": 27,
   "metadata": {},
   "outputs": [
    {
     "name": "stdout",
     "output_type": "stream",
     "text": [
      "Simulation complete in 0.27s\n",
      "\n",
      "  Units produced:      7\n",
      "  System availability: 73.67%\n",
      "\n"
     ]
    }
   ],
   "source": [
    "random.seed(1234)\n",
    "np.random.seed(1234)\n",
    "sys = maintsim.System(process_times=[3, 5, 2],\n",
    "                      failure_mode='degradation',\n",
    "                      failure_params=[0.4]*3,\n",
    "                      initial_health=[0,0,8],\n",
    "                      maintenance_policy='CBM',\n",
    "                      maintenance_params={'CBM threshold':[8,8,6]},\n",
    "                      repair_params={'CM':stats.randint(10,20),\n",
    "                                     'CBM':stats.randint(5,10)},\n",
    "                      scheduler=maintsim.Scheduler(),\n",
    "                      maintenance_capacity=1,\n",
    "                      allow_new_maintenance=True)\n",
    "sys.simulate(sim_time=100)"
   ]
  },
  {
   "cell_type": "code",
   "execution_count": 3,
   "metadata": {},
   "outputs": [
    {
     "name": "stdout",
     "output_type": "stream",
     "text": [
      "30 replications finished in 7.26s, 0.24s/rep\n",
      "Average objective: 75.78 % availability\n"
     ]
    }
   ],
   "source": [
    "reps = sys.iterate_simulation(30, objective='availability')"
   ]
  },
  {
   "cell_type": "code",
   "execution_count": 4,
   "metadata": {},
   "outputs": [
    {
     "data": {
      "text/html": [
       "<div>\n",
       "<style scoped>\n",
       "    .dataframe tbody tr th:only-of-type {\n",
       "        vertical-align: middle;\n",
       "    }\n",
       "\n",
       "    .dataframe tbody tr th {\n",
       "        vertical-align: top;\n",
       "    }\n",
       "\n",
       "    .dataframe thead th {\n",
       "        text-align: right;\n",
       "    }\n",
       "</style>\n",
       "<table border=\"1\" class=\"dataframe\">\n",
       "  <thead>\n",
       "    <tr style=\"text-align: right;\">\n",
       "      <th></th>\n",
       "      <th>time</th>\n",
       "      <th>machine</th>\n",
       "      <th>type</th>\n",
       "      <th>activity</th>\n",
       "      <th>duration</th>\n",
       "    </tr>\n",
       "  </thead>\n",
       "  <tbody>\n",
       "    <tr>\n",
       "      <th>0</th>\n",
       "      <td>1</td>\n",
       "      <td>2</td>\n",
       "      <td>CBM</td>\n",
       "      <td>failure</td>\n",
       "      <td>NA</td>\n",
       "    </tr>\n",
       "    <tr>\n",
       "      <th>1</th>\n",
       "      <td>8</td>\n",
       "      <td>2</td>\n",
       "      <td>CBM</td>\n",
       "      <td>repair</td>\n",
       "      <td>6</td>\n",
       "    </tr>\n",
       "    <tr>\n",
       "      <th>2</th>\n",
       "      <td>21</td>\n",
       "      <td>2</td>\n",
       "      <td>CBM</td>\n",
       "      <td>failure</td>\n",
       "      <td>13</td>\n",
       "    </tr>\n",
       "    <tr>\n",
       "      <th>3</th>\n",
       "      <td>23</td>\n",
       "      <td>0</td>\n",
       "      <td>CBM</td>\n",
       "      <td>failure</td>\n",
       "      <td>NA</td>\n",
       "    </tr>\n",
       "    <tr>\n",
       "      <th>4</th>\n",
       "      <td>24</td>\n",
       "      <td>0</td>\n",
       "      <td>CBM</td>\n",
       "      <td>failure</td>\n",
       "      <td>NA</td>\n",
       "    </tr>\n",
       "    <tr>\n",
       "      <th>5</th>\n",
       "      <td>26</td>\n",
       "      <td>1</td>\n",
       "      <td>CBM</td>\n",
       "      <td>failure</td>\n",
       "      <td>NA</td>\n",
       "    </tr>\n",
       "    <tr>\n",
       "      <th>6</th>\n",
       "      <td>27</td>\n",
       "      <td>1</td>\n",
       "      <td>CBM</td>\n",
       "      <td>failure</td>\n",
       "      <td>NA</td>\n",
       "    </tr>\n",
       "    <tr>\n",
       "      <th>7</th>\n",
       "      <td>28</td>\n",
       "      <td>0</td>\n",
       "      <td>CM</td>\n",
       "      <td>failure</td>\n",
       "      <td>NA</td>\n",
       "    </tr>\n",
       "    <tr>\n",
       "      <th>8</th>\n",
       "      <td>28</td>\n",
       "      <td>1</td>\n",
       "      <td>CM</td>\n",
       "      <td>failure</td>\n",
       "      <td>NA</td>\n",
       "    </tr>\n",
       "    <tr>\n",
       "      <th>9</th>\n",
       "      <td>29</td>\n",
       "      <td>2</td>\n",
       "      <td>CBM</td>\n",
       "      <td>repair</td>\n",
       "      <td>7</td>\n",
       "    </tr>\n",
       "    <tr>\n",
       "      <th>10</th>\n",
       "      <td>41</td>\n",
       "      <td>2</td>\n",
       "      <td>CBM</td>\n",
       "      <td>failure</td>\n",
       "      <td>12</td>\n",
       "    </tr>\n",
       "    <tr>\n",
       "      <th>11</th>\n",
       "      <td>43</td>\n",
       "      <td>0</td>\n",
       "      <td>CM</td>\n",
       "      <td>repair</td>\n",
       "      <td>13</td>\n",
       "    </tr>\n",
       "    <tr>\n",
       "      <th>12</th>\n",
       "      <td>45</td>\n",
       "      <td>2</td>\n",
       "      <td>CBM</td>\n",
       "      <td>failure</td>\n",
       "      <td>16</td>\n",
       "    </tr>\n",
       "    <tr>\n",
       "      <th>13</th>\n",
       "      <td>46</td>\n",
       "      <td>2</td>\n",
       "      <td>CBM</td>\n",
       "      <td>failure</td>\n",
       "      <td>17</td>\n",
       "    </tr>\n",
       "    <tr>\n",
       "      <th>14</th>\n",
       "      <td>51</td>\n",
       "      <td>2</td>\n",
       "      <td>CBM</td>\n",
       "      <td>failure</td>\n",
       "      <td>22</td>\n",
       "    </tr>\n",
       "    <tr>\n",
       "      <th>15</th>\n",
       "      <td>53</td>\n",
       "      <td>2</td>\n",
       "      <td>CM</td>\n",
       "      <td>failure</td>\n",
       "      <td>24</td>\n",
       "    </tr>\n",
       "    <tr>\n",
       "      <th>16</th>\n",
       "      <td>57</td>\n",
       "      <td>1</td>\n",
       "      <td>CM</td>\n",
       "      <td>repair</td>\n",
       "      <td>13</td>\n",
       "    </tr>\n",
       "    <tr>\n",
       "      <th>17</th>\n",
       "      <td>61</td>\n",
       "      <td>0</td>\n",
       "      <td>CBM</td>\n",
       "      <td>failure</td>\n",
       "      <td>18</td>\n",
       "    </tr>\n",
       "    <tr>\n",
       "      <th>18</th>\n",
       "      <td>62</td>\n",
       "      <td>0</td>\n",
       "      <td>CBM</td>\n",
       "      <td>failure</td>\n",
       "      <td>19</td>\n",
       "    </tr>\n",
       "    <tr>\n",
       "      <th>19</th>\n",
       "      <td>64</td>\n",
       "      <td>0</td>\n",
       "      <td>CM</td>\n",
       "      <td>failure</td>\n",
       "      <td>21</td>\n",
       "    </tr>\n",
       "    <tr>\n",
       "      <th>20</th>\n",
       "      <td>70</td>\n",
       "      <td>2</td>\n",
       "      <td>CM</td>\n",
       "      <td>repair</td>\n",
       "      <td>12</td>\n",
       "    </tr>\n",
       "    <tr>\n",
       "      <th>21</th>\n",
       "      <td>80</td>\n",
       "      <td>2</td>\n",
       "      <td>CBM</td>\n",
       "      <td>failure</td>\n",
       "      <td>10</td>\n",
       "    </tr>\n",
       "    <tr>\n",
       "      <th>22</th>\n",
       "      <td>81</td>\n",
       "      <td>0</td>\n",
       "      <td>CM</td>\n",
       "      <td>repair</td>\n",
       "      <td>10</td>\n",
       "    </tr>\n",
       "    <tr>\n",
       "      <th>23</th>\n",
       "      <td>81</td>\n",
       "      <td>2</td>\n",
       "      <td>CBM</td>\n",
       "      <td>failure</td>\n",
       "      <td>11</td>\n",
       "    </tr>\n",
       "    <tr>\n",
       "      <th>24</th>\n",
       "      <td>83</td>\n",
       "      <td>1</td>\n",
       "      <td>CBM</td>\n",
       "      <td>failure</td>\n",
       "      <td>26</td>\n",
       "    </tr>\n",
       "    <tr>\n",
       "      <th>25</th>\n",
       "      <td>91</td>\n",
       "      <td>2</td>\n",
       "      <td>CBM</td>\n",
       "      <td>repair</td>\n",
       "      <td>9</td>\n",
       "    </tr>\n",
       "    <tr>\n",
       "      <th>26</th>\n",
       "      <td>98</td>\n",
       "      <td>1</td>\n",
       "      <td>CBM</td>\n",
       "      <td>repair</td>\n",
       "      <td>6</td>\n",
       "    </tr>\n",
       "  </tbody>\n",
       "</table>\n",
       "</div>"
      ],
      "text/plain": [
       "    time machine type activity duration\n",
       "0      1       2  CBM  failure       NA\n",
       "1      8       2  CBM   repair        6\n",
       "2     21       2  CBM  failure       13\n",
       "3     23       0  CBM  failure       NA\n",
       "4     24       0  CBM  failure       NA\n",
       "5     26       1  CBM  failure       NA\n",
       "6     27       1  CBM  failure       NA\n",
       "7     28       0   CM  failure       NA\n",
       "8     28       1   CM  failure       NA\n",
       "9     29       2  CBM   repair        7\n",
       "10    41       2  CBM  failure       12\n",
       "11    43       0   CM   repair       13\n",
       "12    45       2  CBM  failure       16\n",
       "13    46       2  CBM  failure       17\n",
       "14    51       2  CBM  failure       22\n",
       "15    53       2   CM  failure       24\n",
       "16    57       1   CM   repair       13\n",
       "17    61       0  CBM  failure       18\n",
       "18    62       0  CBM  failure       19\n",
       "19    64       0   CM  failure       21\n",
       "20    70       2   CM   repair       12\n",
       "21    80       2  CBM  failure       10\n",
       "22    81       0   CM   repair       10\n",
       "23    81       2  CBM  failure       11\n",
       "24    83       1  CBM  failure       26\n",
       "25    91       2  CBM   repair        9\n",
       "26    98       1  CBM   repair        6"
      ]
     },
     "execution_count": 4,
     "metadata": {},
     "output_type": "execute_result"
    }
   ],
   "source": [
    "sys.maintenance_data"
   ]
  },
  {
   "cell_type": "code",
   "execution_count": 4,
   "metadata": {},
   "outputs": [
    {
     "data": {
      "image/png": "[encoded data removed]",
      "text/plain": [
       "<Figure size 864x432 with 1 Axes>"
      ]
     },
     "metadata": {
      "needs_background": "light"
     },
     "output_type": "display_data"
    }
   ],
   "source": [
    "plt.figure(figsize=(12,6))\n",
    "for i in range(sys.M):\n",
    "    plt.plot(sys.production_data['M{} production'.format(i)], label='M{}'.format(i))\n",
    "plt.legend()\n",
    "plt.show()"
   ]
  },
  {
   "cell_type": "code",
   "execution_count": 5,
   "metadata": {},
   "outputs": [
    {
     "name": "stdout",
     "output_type": "stream",
     "text": [
      "Simulation complete in 0.60s\n",
      "\n",
      "  Units produced:      14\n",
      "  System availability: 78.00%\n",
      "\n"
     ]
    }
   ],
   "source": [
    "sys1 = maintsim.System(process_times=[3, 5, 2],\n",
    "                       failure_mode='degradation',\n",
    "                       failure_params=[0.2]*3,\n",
    "                       #maintenance_policy='CBM',\n",
    "                       #maintenance_params={'CBM threshold':[8,8,6]},\n",
    "                       repair_params={'CM':stats.randint(10,20),\n",
    "                                      'CBM':stats.randint(5,10)},\n",
    "                       scheduler=maintsim.Scheduler(),\n",
    "                       maintenance_capacity=1)\n",
    "sys1.simulate(warmup_time=100, sim_time=200)"
   ]
  },
  {
   "cell_type": "code",
   "execution_count": 6,
   "metadata": {},
   "outputs": [],
   "source": [
    "#sys1.maintenance_data"
   ]
  },
  {
   "cell_type": "code",
   "execution_count": 7,
   "metadata": {},
   "outputs": [
    {
     "name": "stdout",
     "output_type": "stream",
     "text": [
      "M0:\n",
      "  H_0(t)=7\n",
      "  R_0(t)=2\n",
      "  N_0(t)=1\n",
      "\n",
      "M1:\n",
      "  H_1(t)=0\n",
      "  R_1(t)=4\n",
      "  N_1(t)=0\n",
      "\n",
      "M2:\n",
      "  H_2(t)=8\n",
      "  R_2(t)=1\n",
      "\n"
     ]
    }
   ],
   "source": [
    "for machine in sys1.machines:\n",
    "    m = machine.m\n",
    "    print('M{}:'.format(m))\n",
    "    print('  H_{}(t)={}'.format(m, machine.health))\n",
    "    print('  R_{}(t)={}'.format(m, machine.remaining_process_time))\n",
    "    if m < sys1.M-1:\n",
    "        print('  N_{}(t)={}'.format(m, machine.out_buff.level))\n",
    "    print()"
   ]
  },
  {
   "cell_type": "code",
   "execution_count": 8,
   "metadata": {},
   "outputs": [],
   "source": [
    "initial_remaining_process = [m.remaining_process_time for m in sys1.machines]\n",
    "initial_health = [m.health for m in sys1.machines]\n",
    "initial_buffer = [b.level for b in sys1.buffers]"
   ]
  },
  {
   "cell_type": "code",
   "execution_count": 17,
   "metadata": {},
   "outputs": [
    {
     "data": {
      "text/plain": [
       "[1, 5, 2]"
      ]
     },
     "execution_count": 17,
     "metadata": {},
     "output_type": "execute_result"
    }
   ],
   "source": [
    "intial_remaining_process"
   ]
  },
  {
   "cell_type": "code",
   "execution_count": 12,
   "metadata": {},
   "outputs": [
    {
     "data": {
      "text/plain": [
       "[3, 2, 1]"
      ]
     },
     "execution_count": 12,
     "metadata": {},
     "output_type": "execute_result"
    }
   ],
   "source": [
    "initial_health"
   ]
  },
  {
   "cell_type": "code",
   "execution_count": 19,
   "metadata": {},
   "outputs": [
    {
     "data": {
      "text/plain": [
       "[0, 0]"
      ]
     },
     "execution_count": 19,
     "metadata": {},
     "output_type": "execute_result"
    }
   ],
   "source": [
    "initial_buffer"
   ]
  },
  {
   "cell_type": "code",
   "execution_count": 9,
   "metadata": {},
   "outputs": [],
   "source": [
    "sys2 = maintsim.System(process_times=[3, 5, 2],\n",
    "                      initial_remaining_process=initial_remaining_process,\n",
    "                      initial_buffer=initial_buffer,\n",
    "                      failure_mode='degradation',\n",
    "                      failure_params=[0.2]*3,\n",
    "                      initial_health=initial_health,\n",
    "                      maintenance_policy='CBM',\n",
    "                      maintenance_params={'CBM threshold':[8,8,6]},\n",
    "                      repair_params={'CM':stats.randint(10,20),\n",
    "                                     'CBM':stats.randint(5,10)},\n",
    "                      scheduler=maintsim.Scheduler(),\n",
    "                      maintenance_capacity=1,\n",
    "                      allow_new_maintenance=False)"
   ]
  },
  {
   "cell_type": "code",
   "execution_count": 10,
   "metadata": {},
   "outputs": [
    {
     "name": "stdout",
     "output_type": "stream",
     "text": [
      "Simulation complete in 0.13s\n",
      "\n",
      "  Units produced:      7\n",
      "  System availability: 97.00%\n",
      "\n"
     ]
    }
   ],
   "source": [
    "sys2.simulate(sim_time=100)"
   ]
  },
  {
   "cell_type": "code",
   "execution_count": 11,
   "metadata": {},
   "outputs": [
    {
     "name": "stdout",
     "output_type": "stream",
     "text": [
      "1 replications finished in 0.08s, 0.08s/rep\n",
      "Average objective: 0.40 units lost production\n"
     ]
    }
   ],
   "source": [
    "obj = sys2.iterate_simulation(1, sim_time=20, objective='ppl')"
   ]
  },
  {
   "cell_type": "code",
   "execution_count": 13,
   "metadata": {},
   "outputs": [
    {
     "data": {
      "text/plain": [
       "2"
      ]
     },
     "execution_count": 13,
     "metadata": {},
     "output_type": "execute_result"
    }
   ],
   "source": [
    "sys2.machines[1].total_downtime"
   ]
  },
  {
   "cell_type": "code",
   "execution_count": 25,
   "metadata": {},
   "outputs": [
    {
     "data": {
      "text/plain": [
       "0"
      ]
     },
     "execution_count": 25,
     "metadata": {},
     "output_type": "execute_result"
    }
   ],
   "source": [
    "sys2.machines[sys2.bottleneck].total_downtime"
   ]
  },
  {
   "cell_type": "code",
   "execution_count": 5,
   "metadata": {},
   "outputs": [
    {
     "data": {
      "image/png": "[encoded data removed]",
      "text/plain": [
       "<Figure size 864x432 with 1 Axes>"
      ]
     },
     "metadata": {
      "needs_background": "light"
     },
     "output_type": "display_data"
    }
   ],
   "source": [
    "plt.figure(figsize=(12,6))\n",
    "plt.plot(sys.machine_data['M1 health'])\n",
    "plt.xticks(list(range(0,101,4)))\n",
    "plt.grid()\n",
    "plt.show()"
   ]
  },
  {
   "cell_type": "code",
   "execution_count": 7,
   "metadata": {},
   "outputs": [
    {
     "data": {
      "image/png": "[encoded data removed]",
      "text/plain": [
       "<Figure size 864x432 with 1 Axes>"
      ]
     },
     "metadata": {
      "needs_background": "light"
     },
     "output_type": "display_data"
    }
   ],
   "source": [
    "plt.figure(figsize=(12,6))\n",
    "plt.plot(sys.production_data['M1 production'])\n",
    "plt.xticks(list(range(0,101,4)))\n",
    "plt.grid()\n",
    "plt.show()"
   ]
  },
  {
   "cell_type": "code",
   "execution_count": null,
   "metadata": {},
   "outputs": [],
   "source": []
  }
 ],
 "metadata": {
  "kernelspec": {
   "display_name": "Python 3",
   "language": "python",
   "name": "python3"
  },
  "language_info": {
   "codemirror_mode": {
    "name": "ipython",
    "version": 3
   },
   "file_extension": ".py",
   "mimetype": "text/x-python",
   "name": "python",
   "nbconvert_exporter": "python",
   "pygments_lexer": "ipython3",
   "version": "3.7.1"
  }
 },
 "nbformat": 4,
 "nbformat_minor": 2
}
